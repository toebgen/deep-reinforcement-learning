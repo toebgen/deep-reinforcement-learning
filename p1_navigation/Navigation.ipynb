{
 "cells": [
  {
   "cell_type": "markdown",
   "metadata": {},
   "source": [
    "# Navigation\n",
    "\n",
    "---\n",
    "\n",
    "In this notebook, you will learn how to use the Unity ML-Agents environment for the first project of the [Deep Reinforcement Learning Nanodegree](https://www.udacity.com/course/deep-reinforcement-learning-nanodegree--nd893).\n",
    "\n",
    "### 1. Start the Environment\n",
    "\n",
    "We begin by importing some necessary packages.  If the code cell below returns an error, please revisit the project instructions to double-check that you have installed [Unity ML-Agents](https://github.com/Unity-Technologies/ml-agents/blob/master/docs/Installation.md) and [NumPy](http://www.numpy.org/)."
   ]
  },
  {
   "cell_type": "code",
   "execution_count": null,
   "metadata": {},
   "outputs": [],
   "source": [
    "from unityagents import UnityEnvironment\n",
    "import numpy as np"
   ]
  },
  {
   "cell_type": "markdown",
   "metadata": {},
   "source": [
    "Next, we will start the environment!  **_Before running the code cell below_**, change the `file_name` parameter to match the location of the Unity environment that you downloaded.\n",
    "\n",
    "- **Mac**: `\"path/to/Banana.app\"`\n",
    "- **Windows** (x86): `\"path/to/Banana_Windows_x86/Banana.exe\"`\n",
    "- **Windows** (x86_64): `\"path/to/Banana_Windows_x86_64/Banana.exe\"`\n",
    "- **Linux** (x86): `\"path/to/Banana_Linux/Banana.x86\"`\n",
    "- **Linux** (x86_64): `\"path/to/Banana_Linux/Banana.x86_64\"`\n",
    "- **Linux** (x86, headless): `\"path/to/Banana_Linux_NoVis/Banana.x86\"`\n",
    "- **Linux** (x86_64, headless): `\"path/to/Banana_Linux_NoVis/Banana.x86_64\"`\n",
    "\n",
    "For instance, if you are using a Mac, then you downloaded `Banana.app`.  If this file is in the same folder as the notebook, then the line below should appear as follows:\n",
    "```\n",
    "env = UnityEnvironment(file_name=\"Banana.app\")\n",
    "```"
   ]
  },
  {
   "cell_type": "code",
   "execution_count": null,
   "metadata": {},
   "outputs": [],
   "source": [
    "env = UnityEnvironment(file_name=\"...\")"
   ]
  },
  {
   "cell_type": "markdown",
   "metadata": {},
   "source": [
    "Environments contain **_brains_** which are responsible for deciding the actions of their associated agents. Here we check for the first brain available, and set it as the default brain we will be controlling from Python."
   ]
  },
  {
   "cell_type": "code",
   "execution_count": null,
   "metadata": {},
   "outputs": [],
   "source": [
    "# get the default brain\n",
    "brain_name = env.brain_names[0]\n",
    "brain = env.brains[brain_name]"
   ]
  },
  {
   "cell_type": "markdown",
   "metadata": {},
   "source": [
    "### 2. Examine the State and Action Spaces\n",
    "\n",
    "The simulation contains a single agent that navigates a large environment.  At each time step, it has four actions at its disposal:\n",
    "- `0` - walk forward \n",
    "- `1` - walk backward\n",
    "- `2` - turn left\n",
    "- `3` - turn right\n",
    "\n",
    "The state space has `37` dimensions and contains the agent's velocity, along with ray-based perception of objects around agent's forward direction.  A reward of `+1` is provided for collecting a yellow banana, and a reward of `-1` is provided for collecting a blue banana. \n",
    "\n",
    "Run the code cell below to print some information about the environment."
   ]
  },
  {
   "cell_type": "code",
   "execution_count": null,
   "metadata": {},
   "outputs": [],
   "source": [
    "# reset the environment\n",
    "env_info = env.reset(train_mode=True)[brain_name]\n",
    "\n",
    "# number of agents in the environment\n",
    "print('Number of agents:', len(env_info.agents))\n",
    "\n",
    "# number of actions\n",
    "action_size = brain.vector_action_space_size\n",
    "print('Number of actions:', action_size)\n",
    "\n",
    "# examine the state space \n",
    "state = env_info.vector_observations[0]\n",
    "print('States look like:', state)\n",
    "state_size = len(state)\n",
    "print('States have length:', state_size)"
   ]
  },
  {
   "cell_type": "markdown",
   "metadata": {},
   "source": [
    "### 3. Take Random Actions in the Environment\n",
    "\n",
    "In the next code cell, you will learn how to use the Python API to control the agent and receive feedback from the environment.\n",
    "\n",
    "Once this cell is executed, you will watch the agent's performance, if it selects an action (uniformly) at random with each time step.  A window should pop up that allows you to observe the agent, as it moves through the environment.  \n",
    "\n",
    "Of course, as part of the project, you'll have to change the code so that the agent is able to use its experience to gradually choose better actions when interacting with the environment!"
   ]
  },
  {
   "cell_type": "code",
   "execution_count": null,
   "metadata": {},
   "outputs": [],
   "source": [
    "env_info = env.reset(train_mode=True)[brain_name] # reset the environment\n",
    "state = env_info.vector_observations[0]            # get the current state\n",
    "score = 0                                          # initialize the score\n",
    "while True:\n",
    "    action = np.random.randint(action_size)        # select an action\n",
    "    env_info = env.step(action)[brain_name]        # send the action to the environment\n",
    "    next_state = env_info.vector_observations[0]   # get the next state\n",
    "    reward = env_info.rewards[0]                   # get the reward\n",
    "    done = env_info.local_done[0]                  # see if episode has finished\n",
    "    score += reward                                # update the score\n",
    "    state = next_state                             # roll over the state to next time step\n",
    "    if done:                                       # exit loop if episode finished\n",
    "        break\n",
    "    \n",
    "print(\"Score: {}\".format(score))"
   ]
  },
  {
   "cell_type": "markdown",
   "metadata": {},
   "source": [
    "When finished, you can close the environment."
   ]
  },
  {
   "cell_type": "code",
   "execution_count": null,
   "metadata": {},
   "outputs": [],
   "source": [
    "env.close()"
   ]
  },
  {
   "cell_type": "markdown",
   "metadata": {},
   "source": [
    "### 4. It's Your Turn!\n",
    "\n",
    "Now it's your turn to train your own agent to solve the environment!  When training the environment, set `train_mode=True`, so that the line for resetting the environment looks like the following:\n",
    "```python\n",
    "env_info = env.reset(train_mode=True)[brain_name]\n",
    "```"
  {
   "cell_type": "markdown",
   "metadata": {},
   "source": [
    "### 5. Submission\n",
    "\n",
    "> NOTE: Following code is heavily based on `Lunar Lander` exercise from class.\n",
    "\n",
    "Import all necessary libraries, and especially import the classes `Agent` and `QNetwork`, which contain the main parts of code for the DQN algorithm implementation."
   ]
  },
  {
   "cell_type": "code",
   "execution_count": 24,
   "metadata": {},
   "outputs": [],
   "source": [
    "import random\n",
    "import torch\n",
    "import numpy as np\n",
    "import matplotlib.pyplot as plt\n",
    "from collections import deque\n",
    "import pickle\n",
    "\n",
    "# Use the 2 files dqn_agent.py and model.py\n",
    "from dqn_agent import Agent"
   ]
  },
  {
   "cell_type": "markdown",
   "metadata": {},
   "source": [
    "#### Agent\n",
    "\n",
    "The class `Agent` is taken from class exercise code.\n",
    "It provides necessary methods to interact with the environment, following the Deep Q-Learning algorithm with Fixed Q-Targets and Experience Replay extensions (as discussed in class).\n",
    "\n",
    "The class most importantly holds a `ReplayBuffer` with 1000 entries to store experience tuples, that also supports random sampling, and two `QNetwork`s, in order to decouple targets from network parameters.\n",
    "\n",
    "Further algorithm parameters are:\n",
    "- Minibatch size: `64`\n",
    "- Discount factor (gamma): `0.99`\n",
    "- Softy update factor of target parameters (tau): `0.003`\n",
    "- Learning rate (alpha): `0.0005`\n",
    "- Network update every 4 steps\n",
    "\n",
    "#### Model\n",
    "\n",
    "The class `QNetwork` implements the model, using PyTorch.\n",
    "3 fully connected layers map the 37 inputs onto 64 hidden, another 64 hidden, and finally 4 output units.\n",
    "The state vector is thereby mapped onto action values for all available agent actions.\n",
    "ReLU activation functions are used on the first two layers."
   ]
  },
  {
   "cell_type": "code",
   "execution_count": 8,
   "metadata": {},
   "outputs": [],
   "source": [
    "def dqn(n_episodes=2000, max_t=1000, eps_start=1.0, eps_end=0.01, eps_decay=0.995, stop_score=13.0):\n",
    "    \"\"\"Deep Q-Learning.\n",
    "    \n",
    "    Params\n",
    "    ======\n",
    "        n_episodes (int): maximum number of training episodes\n",
    "        max_t (int): maximum number of timesteps per episode\n",
    "        eps_start (float): starting value of epsilon, for epsilon-greedy action selection\n",
    "        eps_end (float): minimum value of epsilon\n",
    "        eps_decay (float): multiplicative factor (per episode) for decreasing epsilon\n",
    "    \"\"\"\n",
    "    scores = []                        # list containing scores from each episode\n",
    "    scores_window = deque(maxlen=100)  # last 100 scores\n",
    "    eps = eps_start                    # initialize epsilon\n",
    "    \n",
    "    for i_episode in range(1, n_episodes+1):\n",
    "        #state = env.reset()\n",
    "        env_info = env.reset(train_mode=True)[brain_name] # reset the environment\n",
    "        state = env_info.vector_observations[0]           # get the current state\n",
    "        \n",
    "        score = 0\n",
    "        \n",
    "        for t in range(max_t):\n",
    "            action = agent.act(state, eps)\n",
    "            \n",
    "            #next_state, reward, done, _ = env.step(action)\n",
    "            env_info = env.step(action)[brain_name]        # send the action to the environment\n",
    "            next_state = env_info.vector_observations[0]   # get the next state\n",
    "            reward = env_info.rewards[0]                   # get the reward\n",
    "            done = env_info.local_done[0]                  # see if episode has finished\n",
    "    \n",
    "            agent.step(state, action, reward, next_state, done)\n",
    "            state = next_state\n",
    "            score += reward\n",
    "            \n",
    "            if done:\n",
    "                break \n",
    "        \n",
    "        scores_window.append(score)       # save most recent score\n",
    "        scores.append(score)              # save most recent score\n",
    "        eps = max(eps_end, eps_decay*eps) # decrease epsilon\n",
    "        \n",
    "        print('\\rEpisode {}\\tAverage Score: {:.2f}'.format(i_episode, np.mean(scores_window)), end=\"\")\n",
    "        if i_episode % 100 == 0:\n",
    "            print('\\rEpisode {}\\tAverage Score: {:.2f}'.format(i_episode, np.mean(scores_window)))\n",
    "        if np.mean(scores_window)>=stop_score:\n",
    "            print('\\nEnvironment solved in {:d} episodes!\\tAverage Score: {:.2f}'.format(i_episode-100, np.mean(scores_window)))\n",
    "\n",
    "            torch.save(agent.qnetwork_local.state_dict(), 'model.pt')\n",
    "            with open('scores.pkl', 'wb') as f:\n",
    "                pickle.dump(scores, f)\n",
    "            \n",
    "            break\n",
    "            \n",
    "    return scores"
   ]
  },
  {
   "cell_type": "code",
   "execution_count": 9,
   "metadata": {},
   "outputs": [
    {
     "name": "stdout",
     "output_type": "stream",
     "text": [
      "Episode 100\tAverage Score: 1.03\n",
      "Episode 200\tAverage Score: 3.72\n",
      "Episode 300\tAverage Score: 7.43\n",
      "Episode 400\tAverage Score: 10.67\n",
      "Episode 500\tAverage Score: 12.56\n",
      "Episode 564\tAverage Score: 13.03\n",
      "Environment solved in 464 episodes!\tAverage Score: 13.03\n",
      "CPU times: user 4min 4s, sys: 20.5 s, total: 4min 25s\n",
      "Wall time: 6min 18s\n"
     ]
    }
   ],
   "source": [
    "agent = Agent(state_size=state_size, action_size=action_size, seed=0)\n",
    "%time scores = dqn()"
   ]
  },
  {
   "cell_type": "code",
   "execution_count": 10,
   "metadata": {},
   "outputs": [
    {
     "data": {
      "image/png": "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\n",
      "text/plain": [
       "<matplotlib.figure.Figure at 0x7f44d12f4358>"
      ]
     },
     "metadata": {
      "needs_background": "light"
     },
     "output_type": "display_data"
    }
   ],
   "source": [
    "# plot the scores\n",
    "fig = plt.figure()\n",
    "ax = fig.add_subplot(111)\n",
    "plt.plot(np.arange(len(scores)), scores)\n",
    "plt.ylabel('Score')\n",
    "plt.xlabel('Episode #')\n",
    "plt.show()\n",
    "\n",
    "# with open('scores.pkl', 'rb') as f:\n",
    "#     scores_from_file = pickle.load(f)"
   ]
  },
  {
   "cell_type": "code",
   "execution_count": 12,
   "metadata": {},
   "outputs": [
    {
     "name": "stdout",
     "output_type": "stream",
     "text": [
      "Episode 100\tAverage Score: 0.75\n",
      "Episode 200\tAverage Score: 3.12\n",
      "Episode 300\tAverage Score: 6.96\n",
      "Episode 400\tAverage Score: 9.73\n",
      "Episode 500\tAverage Score: 11.96\n",
      "Episode 600\tAverage Score: 11.88\n",
      "Episode 700\tAverage Score: 13.37\n",
      "Episode 800\tAverage Score: 15.31\n",
      "Episode 900\tAverage Score: 14.19\n",
      "Episode 1000\tAverage Score: 13.61\n",
      "Episode 1100\tAverage Score: 13.52\n",
      "Episode 1200\tAverage Score: 13.80\n",
      "Episode 1300\tAverage Score: 14.84\n",
      "Episode 1400\tAverage Score: 13.48\n",
      "Episode 1500\tAverage Score: 14.80\n",
      "Episode 1600\tAverage Score: 14.45\n",
      "Episode 1700\tAverage Score: 14.84\n",
      "Episode 1800\tAverage Score: 13.69\n",
      "Episode 1900\tAverage Score: 14.23\n",
      "Episode 2000\tAverage Score: 15.94\n",
      "CPU times: user 14min 53s, sys: 1min 14s, total: 16min 8s\n",
      "Wall time: 23min 2s\n"
     ]
    }
   ],
   "source": [
    "agent = Agent(state_size=state_size, action_size=action_size, seed=0)\n",
    "%time scores = dqn(stop_score=20.)"
   ]
  },
  {
   "cell_type": "code",
   "execution_count": null,
   "metadata": {},
   "outputs": [],
   "source": [
    "env.close()"
   ]
  },
  {
   "cell_type": "markdown",
   "metadata": {},
   "source": [
    "#### Future work\n",
    "\n",
    "The current algorithm achieves satisfactory scores of +13 after less than 500 learning episodes.\n",
    "It achieves almost +16 after 2000 episodes.\n",
    "Nevertheless, with further improvements the algorithm might perform even better.\n",
    "\n",
    "Possible ideas for future work are:\n",
    "- Investigate the model architecture in more depth, find a more optimal neural network.\n",
    "- Use an hyperparameter optimization library such as `Scikit-Optimize` or `Optuna`, in order to figure out the optimal hyperparameters for learning.\n",
    "- Use different optimizations described in the DQN literature, e.g.:\n",
    "    - Prioritized Experience Replay\n",
    "    - Distributional DQN\n",
    "    - Noisy DQN"
   ]
  },
  {
   "cell_type": "code",
   "execution_count": null,
   "metadata": {},
   "outputs": [],
   "source": []
  }
 ],
 "metadata": {
  "kernelspec": {
   "display_name": "Python 3",
   "language": "python",
   "name": "python3"
  },
  "language_info": {
   "codemirror_mode": {
    "name": "ipython",
    "version": 3
   },
   "file_extension": ".py",
   "mimetype": "text/x-python",
   "name": "python",
   "nbconvert_exporter": "python",
   "pygments_lexer": "ipython3",
   "version": "3.6.3"
  }
 },
 "nbformat": 4,
 "nbformat_minor": 2
}
