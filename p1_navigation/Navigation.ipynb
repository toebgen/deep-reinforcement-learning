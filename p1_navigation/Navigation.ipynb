{
 "cells": [
  {
   "cell_type": "markdown",
   "metadata": {},
   "source": [
    "# Navigation\n",
    "\n",
    "---\n",
    "\n",
    "In this notebook, you will learn how to use the Unity ML-Agents environment for the first project of the [Deep Reinforcement Learning Nanodegree](https://www.udacity.com/course/deep-reinforcement-learning-nanodegree--nd893).\n",
    "\n",
    "### 1. Start the Environment\n",
    "\n",
    "We begin by importing some necessary packages.  If the code cell below returns an error, please revisit the project instructions to double-check that you have installed [Unity ML-Agents](https://github.com/Unity-Technologies/ml-agents/blob/master/docs/Installation.md) and [NumPy](http://www.numpy.org/)."
   ]
  },
  {
   "cell_type": "code",
   "execution_count": null,
   "metadata": {},
   "outputs": [],
   "source": [
    "from unityagents import UnityEnvironment\n",
    "import numpy as np"
   ]
  },
  {
   "cell_type": "markdown",
   "metadata": {},
   "source": [
    "Next, we will start the environment!  **_Before running the code cell below_**, change the `file_name` parameter to match the location of the Unity environment that you downloaded.\n",
    "\n",
    "- **Mac**: `\"path/to/Banana.app\"`\n",
    "- **Windows** (x86): `\"path/to/Banana_Windows_x86/Banana.exe\"`\n",
    "- **Windows** (x86_64): `\"path/to/Banana_Windows_x86_64/Banana.exe\"`\n",
    "- **Linux** (x86): `\"path/to/Banana_Linux/Banana.x86\"`\n",
    "- **Linux** (x86_64): `\"path/to/Banana_Linux/Banana.x86_64\"`\n",
    "- **Linux** (x86, headless): `\"path/to/Banana_Linux_NoVis/Banana.x86\"`\n",
    "- **Linux** (x86_64, headless): `\"path/to/Banana_Linux_NoVis/Banana.x86_64\"`\n",
    "\n",
    "For instance, if you are using a Mac, then you downloaded `Banana.app`.  If this file is in the same folder as the notebook, then the line below should appear as follows:\n",
    "```\n",
    "env = UnityEnvironment(file_name=\"Banana.app\")\n",
    "```"
   ]
  },
  {
   "cell_type": "code",
   "execution_count": null,
   "metadata": {},
   "outputs": [],
   "source": [
    "env = UnityEnvironment(file_name=\"...\")"
   ]
  },
  {
   "cell_type": "markdown",
   "metadata": {},
   "source": [
    "Environments contain **_brains_** which are responsible for deciding the actions of their associated agents. Here we check for the first brain available, and set it as the default brain we will be controlling from Python."
   ]
  },
  {
   "cell_type": "code",
   "execution_count": null,
   "metadata": {},
   "outputs": [],
   "source": [
    "# get the default brain\n",
    "brain_name = env.brain_names[0]\n",
    "brain = env.brains[brain_name]"
   ]
  },
  {
   "cell_type": "markdown",
   "metadata": {},
   "source": [
    "### 2. Examine the State and Action Spaces\n",
    "\n",
    "The simulation contains a single agent that navigates a large environment.  At each time step, it has four actions at its disposal:\n",
    "- `0` - walk forward \n",
    "- `1` - walk backward\n",
    "- `2` - turn left\n",
    "- `3` - turn right\n",
    "\n",
    "The state space has `37` dimensions and contains the agent's velocity, along with ray-based perception of objects around agent's forward direction.  A reward of `+1` is provided for collecting a yellow banana, and a reward of `-1` is provided for collecting a blue banana. \n",
    "\n",
    "Run the code cell below to print some information about the environment."
   ]
  },
  {
   "cell_type": "code",
   "execution_count": null,
   "metadata": {},
   "outputs": [],
   "source": [
    "# reset the environment\n",
    "env_info = env.reset(train_mode=True)[brain_name]\n",
    "\n",
    "# number of agents in the environment\n",
    "print('Number of agents:', len(env_info.agents))\n",
    "\n",
    "# number of actions\n",
    "action_size = brain.vector_action_space_size\n",
    "print('Number of actions:', action_size)\n",
    "\n",
    "# examine the state space \n",
    "state = env_info.vector_observations[0]\n",
    "print('States look like:', state)\n",
    "state_size = len(state)\n",
    "print('States have length:', state_size)"
   ]
  },
  {
   "cell_type": "markdown",
   "metadata": {},
   "source": [
    "### 3. Take Random Actions in the Environment\n",
    "\n",
    "In the next code cell, you will learn how to use the Python API to control the agent and receive feedback from the environment.\n",
    "\n",
    "Once this cell is executed, you will watch the agent's performance, if it selects an action (uniformly) at random with each time step.  A window should pop up that allows you to observe the agent, as it moves through the environment.  \n",
    "\n",
    "Of course, as part of the project, you'll have to change the code so that the agent is able to use its experience to gradually choose better actions when interacting with the environment!"
   ]
  },
  {
   "cell_type": "code",
   "execution_count": null,
   "metadata": {},
   "outputs": [],
   "source": [
    "env_info = env.reset(train_mode=True)[brain_name] # reset the environment\n",
    "state = env_info.vector_observations[0]            # get the current state\n",
    "score = 0                                          # initialize the score\n",
    "while True:\n",
    "    action = np.random.randint(action_size)        # select an action\n",
    "    env_info = env.step(action)[brain_name]        # send the action to the environment\n",
    "    next_state = env_info.vector_observations[0]   # get the next state\n",
    "    reward = env_info.rewards[0]                   # get the reward\n",
    "    done = env_info.local_done[0]                  # see if episode has finished\n",
    "    score += reward                                # update the score\n",
    "    state = next_state                             # roll over the state to next time step\n",
    "    if done:                                       # exit loop if episode finished\n",
    "        break\n",
    "    \n",
    "print(\"Score: {}\".format(score))"
   ]
  },
  {
   "cell_type": "markdown",
   "metadata": {},
   "source": [
    "When finished, you can close the environment."
   ]
  },
  {
   "cell_type": "code",
   "execution_count": null,
   "metadata": {},
   "outputs": [],
   "source": [
    "env.close()"
   ]
  },
  {
   "cell_type": "markdown",
   "metadata": {},
   "source": [
    "### 4. It's Your Turn!\n",
    "\n",
    "Now it's your turn to train your own agent to solve the environment!  When training the environment, set `train_mode=True`, so that the line for resetting the environment looks like the following:\n",
    "```python\n",
    "env_info = env.reset(train_mode=True)[brain_name]\n",
    "```"
  {
   "cell_type": "markdown",
   "metadata": {},
   "source": [
    "### 5. Submission\n",
    "\n",
    "> NOTE: Following code is heavily based on `Lunar Lander` exercise from class.\n",
    "\n",
    "Import all necessary libraries, and especially import the classes `Agent` and `QNetwork`, which contain the main parts of code for the DQN algorithm implementation."
   ]
  },
  {
   "cell_type": "code",
   "execution_count": 24,
   "metadata": {},
   "outputs": [],
   "source": [
    "import random\n",
    "import torch\n",
    "import numpy as np\n",
    "import matplotlib.pyplot as plt\n",
    "from collections import deque\n",
    "import pickle\n",
    "\n",
    "# Use the 2 files dqn_agent.py and model.py\n",
    "from dqn_agent import Agent"
   ]
  },
  {
   "cell_type": "code",
   "execution_count": 25,
   "metadata": {},
   "outputs": [],
   "source": [
    "def dqn(n_episodes=2000, max_t=1000, eps_start=1.0, eps_end=0.01, eps_decay=0.995):\n",
    "    \"\"\"Deep Q-Learning.\n",
    "    \n",
    "    Params\n",
    "    ======\n",
    "        n_episodes (int): maximum number of training episodes\n",
    "        max_t (int): maximum number of timesteps per episode\n",
    "        eps_start (float): starting value of epsilon, for epsilon-greedy action selection\n",
    "        eps_end (float): minimum value of epsilon\n",
    "        eps_decay (float): multiplicative factor (per episode) for decreasing epsilon\n",
    "    \"\"\"\n",
    "    scores = []                        # list containing scores from each episode\n",
    "    scores_window = deque(maxlen=100)  # last 100 scores\n",
    "    eps = eps_start                    # initialize epsilon\n",
    "    \n",
    "    for i_episode in range(1, n_episodes+1):\n",
    "        #state = env.reset()\n",
    "        env_info = env.reset(train_mode=True)[brain_name] # reset the environment\n",
    "        state = env_info.vector_observations[0]           # get the current state\n",
    "        \n",
    "        score = 0\n",
    "        \n",
    "        for t in range(max_t):\n",
    "            action = agent.act(state, eps)\n",
    "            \n",
    "            #next_state, reward, done, _ = env.step(action)\n",
    "            env_info = env.step(action)[brain_name]        # send the action to the environment\n",
    "            next_state = env_info.vector_observations[0]   # get the next state\n",
    "            reward = env_info.rewards[0]                   # get the reward\n",
    "            done = env_info.local_done[0]                  # see if episode has finished\n",
    "    \n",
    "            agent.step(state, action, reward, next_state, done)\n",
    "            state = next_state\n",
    "            score += reward\n",
    "            \n",
    "            if done:\n",
    "                break \n",
    "        \n",
    "        scores_window.append(score)       # save most recent score\n",
    "        scores.append(score)              # save most recent score\n",
    "        eps = max(eps_end, eps_decay*eps) # decrease epsilon\n",
    "        \n",
    "        print('\\rEpisode {}\\tAverage Score: {:.2f}'.format(i_episode, np.mean(scores_window)), end=\"\")\n",
    "        if i_episode % 100 == 0:\n",
    "            print('\\rEpisode {}\\tAverage Score: {:.2f}'.format(i_episode, np.mean(scores_window)))\n",
    "        if np.mean(scores_window)>=13.0:\n",
    "            print('\\nEnvironment solved in {:d} episodes!\\tAverage Score: {:.2f}'.format(i_episode-100, np.mean(scores_window)))\n",
    "\n",
    "            torch.save(agent.qnetwork_local.state_dict(), 'model.pt')\n",
    "            with open('scores.pkl', 'wb') as f:\n",
    "                pickle.dump(scores, f)\n",
    "            \n",
    "            break\n",
    "            \n",
    "    return scores"
   ]
  },
  {
   "cell_type": "code",
   "execution_count": 26,
   "metadata": {},
   "outputs": [
    {
     "name": "stdout",
     "output_type": "stream",
     "text": [
      "Episode 100\tAverage Score: 0.74\n",
      "Episode 200\tAverage Score: 3.34\n",
      "Episode 300\tAverage Score: 6.97\n",
      "Episode 400\tAverage Score: 10.38\n",
      "Episode 500\tAverage Score: 11.72\n",
      "Episode 568\tAverage Score: 13.00\n",
      "Environment solved in 468 episodes!\tAverage Score: 13.00\n",
      "CPU times: user 5min 20s, sys: 25.5 s, total: 5min 45s\n",
      "Wall time: 8min 29s\n"
     ]
    }
   ],
   "source": [
    "agent = Agent(state_size=state_size, action_size=action_size, seed=0)\n",
    "%time scores = dqn()"
   ]
  },
  {
   "cell_type": "code",
   "execution_count": 28,
   "metadata": {},
   "outputs": [
    {
     "data": {
      "image/png": "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\n",
      "text/plain": [
       "<matplotlib.figure.Figure at 0x7f331499b668>"
      ]
     },
     "metadata": {
      "needs_background": "light"
     },
     "output_type": "display_data"
    }
   ],
   "source": [
    "# plot the scores\n",
    "fig = plt.figure()\n",
    "ax = fig.add_subplot(111)\n",
    "plt.plot(np.arange(len(scores)), scores)\n",
    "plt.ylabel('Score')\n",
    "plt.xlabel('Episode #')\n",
    "plt.show()\n",
    "\n",
    "# with open('scores.pkl', 'rb') as f:\n",
    "#     scores_from_file = pickle.load(f)"
   ]
  },
  {
   "cell_type": "code",
   "execution_count": null,
   "metadata": {},
   "outputs": [],
   "source": [
    "env.close()"
   ]
  },
  {
   "cell_type": "markdown",
   "metadata": {},
   "source": [
    "#### Ideas for future work\n",
    "\n",
    "- Use hyperparameter optimization library such as `Scikit-Optimize` or `Optuna`\n",
    "- Use different optimizations of DQN, e.g.:\n",
    "    - Distributional DQN\n",
    "    - Noisy DQN"
   ]
  },
  {
   "cell_type": "code",
   "execution_count": null,
   "metadata": {},
   "outputs": [],
   "source": []
  }
 ],
 "metadata": {
  "kernelspec": {
   "display_name": "Python 3",
   "language": "python",
   "name": "python3"
  },
  "language_info": {
   "codemirror_mode": {
    "name": "ipython",
    "version": 3
   },
   "file_extension": ".py",
   "mimetype": "text/x-python",
   "name": "python",
   "nbconvert_exporter": "python",
   "pygments_lexer": "ipython3",
   "version": "3.6.3"
  }
 },
 "nbformat": 4,
 "nbformat_minor": 2
}
