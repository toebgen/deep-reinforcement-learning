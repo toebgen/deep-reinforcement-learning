{
 "cells": [
  {
   "cell_type": "markdown",
   "metadata": {},
   "source": [
    "# Continuous Control\n",
    "\n",
    "---\n",
    "\n",
    "You are welcome to use this coding environment to train your agent for the project.  Follow the instructions below to get started!\n",
    "\n",
    "### 1. Start the Environment\n",
    "\n",
    "Run the next code cell to install a few packages.  This line will take a few minutes to run!"
   ]
  },
  {
   "cell_type": "code",
   "execution_count": 1,
   "metadata": {},
   "outputs": [
    {
     "name": "stdout",
     "output_type": "stream",
     "text": [
      "\u001b[31mtensorflow 1.7.1 has requirement numpy>=1.13.3, but you'll have numpy 1.12.1 which is incompatible.\u001b[0m\n",
      "\u001b[31mipython 6.5.0 has requirement prompt-toolkit<2.0.0,>=1.0.15, but you'll have prompt-toolkit 2.0.10 which is incompatible.\u001b[0m\n",
      "CPU times: user 1.34 s, sys: 239 ms, total: 1.58 s\n",
      "Wall time: 1min 4s\n"
     ]
    }
   ],
   "source": [
    "%%time\n",
    "!pip -q install ./python"
   ]
  },
  {
   "cell_type": "markdown",
   "metadata": {},
   "source": [
    "The environments corresponding to both versions of the environment are already saved in the Workspace and can be accessed at the file paths provided below.  \n",
    "\n",
    "Please select one of the two options below for loading the environment."
   ]
  },
  {
   "cell_type": "code",
   "execution_count": 2,
   "metadata": {},
   "outputs": [
    {
     "name": "stderr",
     "output_type": "stream",
     "text": [
      "INFO:unityagents:\n",
      "'Academy' started successfully!\n",
      "Unity Academy name: Academy\n",
      "        Number of Brains: 1\n",
      "        Number of External Brains : 1\n",
      "        Lesson number : 0\n",
      "        Reset Parameters :\n",
      "\t\tgoal_size -> 5.0\n",
      "\t\tgoal_speed -> 1.0\n",
      "Unity brain name: ReacherBrain\n",
      "        Number of Visual Observations (per agent): 0\n",
      "        Vector Observation space type: continuous\n",
      "        Vector Observation space size (per agent): 33\n",
      "        Number of stacked Vector Observation: 1\n",
      "        Vector Action space type: continuous\n",
      "        Vector Action space size (per agent): 4\n",
      "        Vector Action descriptions: , , , \n"
     ]
    }
   ],
   "source": [
    "from unityagents import UnityEnvironment\n",
    "import numpy as np\n",
    "\n",
    "# select this option to load version 1 (with a single agent) of the environment\n",
    "env = UnityEnvironment(file_name='/data/Reacher_One_Linux_NoVis/Reacher_One_Linux_NoVis.x86_64')\n",
    "\n",
    "# select this option to load version 2 (with 20 agents) of the environment\n",
    "# env = UnityEnvironment(file_name='/data/Reacher_Linux_NoVis/Reacher.x86_64')"
   ]
  },
  {
   "cell_type": "markdown",
   "metadata": {},
   "source": [
    "Environments contain **_brains_** which are responsible for deciding the actions of their associated agents. Here we check for the first brain available, and set it as the default brain we will be controlling from Python."
   ]
  },
  {
   "cell_type": "code",
   "execution_count": 3,
   "metadata": {},
   "outputs": [],
   "source": [
    "# get the default brain\n",
    "brain_name = env.brain_names[0]\n",
    "brain = env.brains[brain_name]"
   ]
  },
  {
   "cell_type": "markdown",
   "metadata": {},
   "source": [
    "### 2. Examine the State and Action Spaces\n",
    "\n",
    "Run the code cell below to print some information about the environment."
   ]
  },
  {
   "cell_type": "code",
   "execution_count": 4,
   "metadata": {},
   "outputs": [
    {
     "name": "stdout",
     "output_type": "stream",
     "text": [
      "Number of agents: 1\n",
      "Size of each action: 4\n",
      "There are 1 agents. Each observes a state with length: 33\n",
      "The state for the first agent looks like: [  0.00000000e+00  -4.00000000e+00   0.00000000e+00   1.00000000e+00\n",
      "  -0.00000000e+00  -0.00000000e+00  -4.37113883e-08   0.00000000e+00\n",
      "   0.00000000e+00   0.00000000e+00   0.00000000e+00   0.00000000e+00\n",
      "   0.00000000e+00   0.00000000e+00  -1.00000000e+01   0.00000000e+00\n",
      "   1.00000000e+00  -0.00000000e+00  -0.00000000e+00  -4.37113883e-08\n",
      "   0.00000000e+00   0.00000000e+00   0.00000000e+00   0.00000000e+00\n",
      "   0.00000000e+00   0.00000000e+00   5.75471878e+00  -1.00000000e+00\n",
      "   5.55726671e+00   0.00000000e+00   1.00000000e+00   0.00000000e+00\n",
      "  -1.68164849e-01]\n"
     ]
    }
   ],
   "source": [
    "# reset the environment\n",
    "env_info = env.reset(train_mode=True)[brain_name]\n",
    "\n",
    "# number of agents\n",
    "num_agents = len(env_info.agents)\n",
    "print('Number of agents:', num_agents)\n",
    "\n",
    "# size of each action\n",
    "action_size = brain.vector_action_space_size\n",
    "print('Size of each action:', action_size)\n",
    "\n",
    "# examine the state space \n",
    "states = env_info.vector_observations\n",
    "state_size = states.shape[1]\n",
    "print('There are {} agents. Each observes a state with length: {}'.format(states.shape[0], state_size))\n",
    "print('The state for the first agent looks like:', states[0])"
   ]
  },
  {
   "cell_type": "markdown",
   "metadata": {},
   "source": [
    "### 3. Take Random Actions in the Environment\n",
    "\n",
    "In the next code cell, you will learn how to use the Python API to control the agent and receive feedback from the environment.\n",
    "\n",
    "Note that **in this coding environment, you will not be able to watch the agents while they are training**, and you should set `train_mode=True` to restart the environment."
   ]
  },
  {
   "cell_type": "code",
   "execution_count": 5,
   "metadata": {},
   "outputs": [
    {
     "name": "stdout",
     "output_type": "stream",
     "text": [
      "Total score (averaged over agents) this episode: 0.0. Number of episodes: 1000.\n"
     ]
    }
   ],
   "source": [
    "env_info = env.reset(train_mode=True)[brain_name]      # reset the environment    \n",
    "states = env_info.vector_observations                  # get the current state (for each agent)\n",
    "scores = np.zeros(num_agents)                          # initialize the score (for each agent)\n",
    "i_episode = 0\n",
    "while True:\n",
    "    actions = np.random.randn(num_agents, action_size) # select an action (for each agent)\n",
    "    actions = np.clip(actions, -1, 1)                  # all actions between -1 and 1\n",
    "    env_info = env.step(actions)[brain_name]           # send all actions to tne environment\n",
    "    next_states = env_info.vector_observations         # get next state (for each agent)\n",
    "    rewards = env_info.rewards                         # get reward (for each agent)\n",
    "    dones = env_info.local_done                        # see if episode finished\n",
    "    scores += env_info.rewards                         # update the score (for each agent)\n",
    "    states = next_states                               # roll over states to next time step\n",
    "    i_episode += 1\n",
    "    if np.any(dones):                                  # exit loop if episode finished\n",
    "        break\n",
    "print('Total score (averaged over agents) this episode: {}. Number of episodes: {}.'.format(np.mean(scores),\n",
    "                                                                                            i_episode-1))"
   ]
  },
  {
   "cell_type": "markdown",
   "metadata": {},
   "source": [
    "When finished, you can close the environment."
   ]
  },
  {
   "cell_type": "code",
   "execution_count": 6,
   "metadata": {},
   "outputs": [],
   "source": [
    "#env.close()"
   ]
  },
  {
   "cell_type": "markdown",
   "metadata": {},
   "source": [
    "### 4. It's Your Turn!\n",
    "\n",
    "Now it's your turn to train your own agent to solve the environment!  A few **important notes**:\n",
    "- When training the environment, set `train_mode=True`, so that the line for resetting the environment looks like the following:\n",
    "```python\n",
    "env_info = env.reset(train_mode=True)[brain_name]\n",
    "```\n",
    "- To structure your work, you're welcome to work directly in this Jupyter notebook, or you might like to start over with a new file!  You can see the list of files in the workspace by clicking on **_Jupyter_** in the top left corner of the notebook.\n",
    "- In this coding environment, you will not be able to watch the agents while they are training.  However, **_after training the agents_**, you can download the saved model weights to watch the agents on your own machine! "
   ]
  },
  {
   "cell_type": "markdown",
   "metadata": {},
   "source": [
    "### 5. Submission\n",
    "\n",
    "> The following solution is based on the code provided in [Udacity ddpg-bipedal](https://github.com/udacity/deep-reinforcement-learning/blob/master/ddpg-bipedal/DDPG.ipynb). In particular, it uses the files [model.py](https://github.com/udacity/deep-reinforcement-learning/blob/master/ddpg-bipedal/model.py) and [ddpg_agent/py](https://github.com/udacity/deep-reinforcement-learning/blob/master/ddpg-bipedal/ddpg_agent.py), as well as the code provided in the training loop `ddpg()`."
   ]
  },
  {
   "cell_type": "code",
   "execution_count": 7,
   "metadata": {},
   "outputs": [],
   "source": [
    "import random\n",
    "import datetime, time\n",
    "import torch\n",
    "import numpy as np\n",
    "from collections import deque\n",
    "import matplotlib.pyplot as plt\n",
    "%matplotlib inline\n",
    "from workspace_utils import active_session\n",
    "\n",
    "from ddpg_agent import Agent"
   ]
  },
  {
   "cell_type": "markdown",
   "metadata": {},
   "source": [
    "#### Learning Algorithm\n",
    "\n",
    "DDPG\n",
    "\n",
    "####  Neural Network Architecture\n",
    "\n",
    "After trying the initial architecture from the Udacity bipolar walker, and reading in the student hub I adapted the model as follows:\n",
    "\n",
    "For the **actor** I added another fully connected layer with 128 neurons.\n",
    "This results in the following number of neurons on each layer then (input, FC1, FC2, output): `33-256-128-4`.\n",
    "Besides, a batch normalization layer is being introduced in between the fully connected layers, to help normalize the activation across the batch of samples from the replay buffer\n",
    "\n",
    "The **critic** is adjusted in the following way:\n",
    "128-128"
   ]
  },
  {
   "cell_type": "code",
   "execution_count": 8,
   "metadata": {},
   "outputs": [],
   "source": [
    "agent = Agent(state_size=state_size,\n",
    "              action_size=action_size,\n",
    "              random_seed=5)\n",
    "\n",
    "def ddpg(n_episodes=750, max_t=700):\n",
    "    scores_deque = deque(maxlen=100)\n",
    "    scores = []\n",
    "    max_score = -np.Inf\n",
    "    for i_episode in range(1, n_episodes+1):\n",
    "        t_start = datetime.datetime.now()\n",
    "        env_info = env.reset(train_mode=True)[brain_name] # reset the environment\n",
    "        state = env_info.vector_observations[0]\n",
    "        agent.reset()\n",
    "        score = 0\n",
    "        for t in range(max_t):\n",
    "            print('\\rEpisode {}/{}, t: {}/{}'.format(i_episode, n_episodes, t, max_t),\n",
    "                  end=\"\")\n",
    "            action = agent.act(states)\n",
    "            \n",
    "            env_info = env.step(actions)[brain_name]     # send all actions to the environment\n",
    "            next_state = env_info.vector_observations[0] # get next state (for each agent)\n",
    "            reward = env_info.rewards[0]                 # get reward (for each agent)\n",
    "            done = env_info.local_done[0]                # see if episode finished\n",
    "            \n",
    "            score += reward\n",
    "            state = next_state                           # roll over states to next time step\n",
    "            \n",
    "            # next_state, reward, done, _ = env.step(action)\n",
    "            agent.step(state, action, reward, next_state, done, t)\n",
    "            # state = next_state\n",
    "            # score += reward\n",
    "            \n",
    "            if done:                                     # exit loop if episode finished\n",
    "                break\n",
    "                \n",
    "        scores_deque.append(score)\n",
    "        scores.append(score)\n",
    "        t_episode = datetime.datetime.now() - t_start\n",
    "        print('\\rEpisode: {}, Average Score: {:.2f}, Score: {:.2f}, time: {}\\n'.format(i_episode,\n",
    "            np.mean(scores_deque), score, t_episode), end=\"\")\n",
    "        \n",
    "        if i_episode % 100 == 0:\n",
    "            torch.save(agent.actor_local.state_dict(), 'checkpoint_actor.pth')\n",
    "            torch.save(agent.critic_local.state_dict(), 'checkpoint_critic.pth')\n",
    "            print('\\nEpisode: {}, Average Score: {:.2f}\\n'.format(i_episode,\n",
    "                                                             np.mean(scores_deque)))\n",
    "\n",
    "        if np.mean(scores_deque) >= 30.0:\n",
    "            print('\\n\\nEnvironment solved in {:d} episodes!\\tAverage Score: {:.2f}'.format(i_episode,\n",
    "                                                                                         np.mean(scores_deque)))\n",
    "            torch.save(agent.actor_local.state_dict(), 'checkpoint_actor_solution.pth')\n",
    "            torch.save(agent.critic_local.state_dict(), 'checkpoint_critic_solution.pth')\n",
    "            break\n",
    "            \n",
    "    return scores"
   ]
  },
  {
   "cell_type": "code",
   "execution_count": 10,
   "metadata": {},
   "outputs": [
    {
     "name": "stdout",
     "output_type": "stream",
     "text": [
      "Episode: 1, Average Score: 0.00, Score: 0.00, time: 0:00:04.376297\n",
      "Episode: 2, Average Score: 0.01, Score: 0.03, time: 0:00:09.097648\n",
      "Episode: 3, Average Score: 0.01, Score: 0.00, time: 0:00:08.500119\n",
      "Episode: 4, Average Score: 0.03, Score: 0.09, time: 0:00:08.514196\n",
      "Episode: 5, Average Score: 0.02, Score: 0.00, time: 0:00:08.564087\n",
      "Episode: 6, Average Score: 0.02, Score: 0.00, time: 0:00:08.591026\n",
      "Episode: 7, Average Score: 0.02, Score: 0.04, time: 0:00:08.734327\n",
      "Episode: 8, Average Score: 0.02, Score: 0.01, time: 0:00:08.724934\n",
      "Episode: 9, Average Score: 0.05, Score: 0.28, time: 0:00:08.581125\n",
      "Episode: 10, Average Score: 0.08, Score: 0.34, time: 0:00:08.626510\n",
      "Episode: 11, Average Score: 0.08, Score: 0.09, time: 0:00:08.616995\n",
      "Episode: 12, Average Score: 0.09, Score: 0.21, time: 0:00:08.844271\n",
      "Episode: 13, Average Score: 0.12, Score: 0.47, time: 0:00:08.834926\n",
      "Episode: 14, Average Score: 0.15, Score: 0.58, time: 0:00:08.825672\n",
      "Episode: 15, Average Score: 0.16, Score: 0.24, time: 0:00:08.640292\n",
      "Episode: 16, Average Score: 0.15, Score: 0.00, time: 0:00:08.552839\n",
      "Episode: 17, Average Score: 0.14, Score: 0.00, time: 0:00:08.566029\n",
      "Episode: 18, Average Score: 0.14, Score: 0.19, time: 0:00:08.585653\n",
      "Episode: 19, Average Score: 0.14, Score: 0.14, time: 0:00:08.884888\n",
      "Episode: 20, Average Score: 0.15, Score: 0.26, time: 0:00:08.931232\n",
      "Episode: 21, Average Score: 0.16, Score: 0.45, time: 0:00:08.845496\n",
      "Episode: 22, Average Score: 0.17, Score: 0.28, time: 0:00:08.831746\n",
      "Episode: 23, Average Score: 0.16, Score: 0.00, time: 0:00:08.866488\n",
      "Episode: 24, Average Score: 0.16, Score: 0.11, time: 0:00:08.917998\n",
      "Episode: 25, Average Score: 0.21, Score: 1.38, time: 0:00:08.937615\n",
      "Episode: 26, Average Score: 0.20, Score: 0.09, time: 0:00:08.937347\n",
      "Episode: 27, Average Score: 0.23, Score: 1.04, time: 0:00:08.939180\n",
      "Episode: 28, Average Score: 0.23, Score: 0.00, time: 0:00:09.198840\n",
      "Episode: 29, Average Score: 0.22, Score: 0.05, time: 0:00:08.896496\n",
      "Episode: 30, Average Score: 0.21, Score: 0.05, time: 0:00:08.924634\n",
      "Episode: 31, Average Score: 0.21, Score: 0.09, time: 0:00:08.999315\n",
      "Episode: 32, Average Score: 0.20, Score: 0.00, time: 0:00:08.951223\n",
      "Episode: 33, Average Score: 0.22, Score: 0.65, time: 0:00:08.941585\n",
      "Episode: 34, Average Score: 0.22, Score: 0.20, time: 0:00:08.922272\n",
      "Episode: 35, Average Score: 0.23, Score: 0.56, time: 0:00:08.960687\n",
      "Episode: 36, Average Score: 0.22, Score: 0.07, time: 0:00:08.939813\n",
      "Episode: 37, Average Score: 0.22, Score: 0.23, time: 0:00:08.922533\n",
      "Episode: 38, Average Score: 0.22, Score: 0.14, time: 0:00:08.951323\n",
      "Episode: 39, Average Score: 0.22, Score: 0.31, time: 0:00:08.959159\n",
      "Episode: 40, Average Score: 0.23, Score: 0.65, time: 0:00:08.977325\n",
      "Episode: 41, Average Score: 0.24, Score: 0.32, time: 0:00:08.967833\n",
      "Episode: 42, Average Score: 0.23, Score: 0.00, time: 0:00:09.083322\n",
      "Episode: 43, Average Score: 0.23, Score: 0.12, time: 0:00:09.078777\n",
      "Episode: 44, Average Score: 0.22, Score: 0.09, time: 0:00:08.995764\n",
      "Episode: 45, Average Score: 0.23, Score: 0.38, time: 0:00:09.023038\n",
      "Episode: 46, Average Score: 0.22, Score: 0.11, time: 0:00:09.030340\n",
      "Episode: 47, Average Score: 0.23, Score: 0.63, time: 0:00:09.046856\n",
      "Episode: 48, Average Score: 0.23, Score: 0.28, time: 0:00:09.067952\n",
      "Episode: 49, Average Score: 0.24, Score: 0.44, time: 0:00:09.081330\n",
      "Episode: 50, Average Score: 0.25, Score: 0.59, time: 0:00:09.081667\n",
      "Episode: 51, Average Score: 0.25, Score: 0.39, time: 0:00:09.123683\n",
      "Episode: 52, Average Score: 0.26, Score: 0.93, time: 0:00:09.106612\n",
      "Episode: 53, Average Score: 0.26, Score: 0.25, time: 0:00:09.278482\n",
      "Episode: 54, Average Score: 0.26, Score: 0.00, time: 0:00:09.286337\n",
      "Episode: 55, Average Score: 0.25, Score: 0.07, time: 0:00:09.507241\n",
      "Episode: 56, Average Score: 0.25, Score: 0.22, time: 0:00:09.293740\n",
      "Episode: 57, Average Score: 0.25, Score: 0.17, time: 0:00:09.285169\n",
      "Episode: 58, Average Score: 0.25, Score: 0.10, time: 0:00:09.275524\n",
      "Episode: 59, Average Score: 0.24, Score: 0.00, time: 0:00:09.267892\n",
      "Episode: 60, Average Score: 0.25, Score: 0.47, time: 0:00:09.232335\n",
      "Episode: 61, Average Score: 0.25, Score: 0.53, time: 0:00:09.187926\n",
      "Episode: 62, Average Score: 0.26, Score: 0.60, time: 0:00:09.218558\n",
      "Episode: 63, Average Score: 0.25, Score: 0.04, time: 0:00:09.262405\n",
      "Episode: 64, Average Score: 0.26, Score: 0.30, time: 0:00:09.264301\n",
      "Episode: 65, Average Score: 0.25, Score: 0.18, time: 0:00:09.218236\n",
      "Episode: 66, Average Score: 0.25, Score: 0.07, time: 0:00:09.080115\n",
      "Episode: 67, Average Score: 0.25, Score: 0.46, time: 0:00:09.202503\n",
      "Episode: 68, Average Score: 0.26, Score: 0.62, time: 0:00:09.238622\n",
      "Episode: 69, Average Score: 0.27, Score: 0.70, time: 0:00:09.218869\n",
      "Episode: 70, Average Score: 0.27, Score: 0.47, time: 0:00:09.300343\n",
      "Episode: 71, Average Score: 0.27, Score: 0.41, time: 0:00:09.268645\n",
      "Episode: 72, Average Score: 0.27, Score: 0.18, time: 0:00:09.295584\n",
      "Episode: 73, Average Score: 0.27, Score: 0.29, time: 0:00:09.297070\n",
      "Episode: 74, Average Score: 0.27, Score: 0.24, time: 0:00:09.277263\n",
      "Episode: 75, Average Score: 0.27, Score: 0.13, time: 0:00:09.237313\n",
      "Episode: 76, Average Score: 0.27, Score: 0.07, time: 0:00:09.448515\n",
      "Episode: 77, Average Score: 0.27, Score: 0.62, time: 0:00:09.316097\n",
      "Episode: 78, Average Score: 0.27, Score: 0.50, time: 0:00:09.289092\n",
      "Episode: 79, Average Score: 0.27, Score: 0.00, time: 0:00:09.271334\n",
      "Episode: 80, Average Score: 0.27, Score: 0.41, time: 0:00:09.303030\n",
      "Episode: 81, Average Score: 0.27, Score: 0.00, time: 0:00:09.494116\n",
      "Episode: 82, Average Score: 0.27, Score: 0.18, time: 0:00:09.252995\n",
      "Episode: 83, Average Score: 0.26, Score: 0.11, time: 0:00:09.269850\n",
      "Episode: 84, Average Score: 0.27, Score: 0.76, time: 0:00:09.282624\n",
      "Episode: 85, Average Score: 0.27, Score: 0.13, time: 0:00:09.301877\n",
      "Episode: 86, Average Score: 0.27, Score: 0.07, time: 0:00:09.366855\n",
      "Episode: 87, Average Score: 0.26, Score: 0.06, time: 0:00:09.342807\n",
      "Episode: 88, Average Score: 0.27, Score: 0.44, time: 0:00:09.325670\n",
      "Episode: 89, Average Score: 0.26, Score: 0.11, time: 0:00:09.326706\n",
      "Episode: 90, Average Score: 0.26, Score: 0.14, time: 0:00:09.335274\n",
      "Episode: 91, Average Score: 0.27, Score: 0.55, time: 0:00:09.307266\n",
      "Episode: 92, Average Score: 0.26, Score: 0.00, time: 0:00:09.278549\n",
      "Episode: 93, Average Score: 0.26, Score: 0.28, time: 0:00:09.317358\n",
      "Episode: 94, Average Score: 0.26, Score: 0.23, time: 0:00:09.340511\n",
      "Episode: 95, Average Score: 0.26, Score: 0.00, time: 0:00:09.369116\n",
      "Episode: 96, Average Score: 0.26, Score: 0.06, time: 0:00:09.375880\n",
      "Episode: 97, Average Score: 0.26, Score: 0.06, time: 0:00:09.357719\n",
      "Episode: 98, Average Score: 0.26, Score: 0.13, time: 0:00:09.426230\n",
      "Episode: 99, Average Score: 0.25, Score: 0.10, time: 0:00:09.447688\n",
      "Episode: 100, Average Score: 0.25, Score: 0.32, time: 0:00:09.402235\n",
      "\n",
      "Episode: 100, Average Score: 0.25\n",
      "\n",
      "Episode: 101, Average Score: 0.26, Score: 0.09, time: 0:00:09.395228\n",
      "Episode: 102, Average Score: 0.26, Score: 0.06, time: 0:00:09.432017\n",
      "Episode: 103, Average Score: 0.26, Score: 0.07, time: 0:00:09.390039\n",
      "Episode: 104, Average Score: 0.26, Score: 0.39, time: 0:00:09.419084\n",
      "Episode: 105, Average Score: 0.26, Score: 0.00, time: 0:00:09.404291\n",
      "Episode: 106, Average Score: 0.26, Score: 0.52, time: 0:00:09.554523\n",
      "Episode: 107, Average Score: 0.27, Score: 0.54, time: 0:00:09.412913\n",
      "Episode: 108, Average Score: 0.27, Score: 0.08, time: 0:00:09.436855\n",
      "Episode: 109, Average Score: 0.27, Score: 0.10, time: 0:00:09.580023\n",
      "Episode: 110, Average Score: 0.27, Score: 0.15, time: 0:00:09.505489\n",
      "Episode: 111, Average Score: 0.27, Score: 0.15, time: 0:00:09.453449\n",
      "Episode: 112, Average Score: 0.27, Score: 0.06, time: 0:00:09.399132\n",
      "Episode: 113, Average Score: 0.27, Score: 0.98, time: 0:00:09.426427\n",
      "Episode: 114, Average Score: 0.27, Score: 0.51, time: 0:00:09.394464\n",
      "Episode: 115, Average Score: 0.27, Score: 0.00, time: 0:00:09.436041\n",
      "Episode: 116, Average Score: 0.27, Score: 0.11, time: 0:00:09.417773\n",
      "Episode: 117, Average Score: 0.27, Score: 0.19, time: 0:00:09.457618\n",
      "Episode: 118, Average Score: 0.27, Score: 0.00, time: 0:00:09.443029\n",
      "Episode: 119, Average Score: 0.27, Score: 0.03, time: 0:00:09.582869\n",
      "Episode: 120, Average Score: 0.27, Score: 0.11, time: 0:00:09.425184\n"
     ]
    },
    {
     "name": "stdout",
     "output_type": "stream",
     "text": [
      "Episode: 121, Average Score: 0.26, Score: 0.12, time: 0:00:09.482673\n",
      "Episode: 122, Average Score: 0.26, Score: 0.00, time: 0:00:09.482035\n",
      "Episode: 123, Average Score: 0.26, Score: 0.37, time: 0:00:09.427284\n",
      "Episode: 124, Average Score: 0.26, Score: 0.07, time: 0:00:09.449357\n",
      "Episode: 125, Average Score: 0.25, Score: 0.37, time: 0:00:09.442164\n",
      "Episode 126/750, t: 40/700"
     ]
    },
    {
     "ename": "KeyboardInterrupt",
     "evalue": "",
     "output_type": "error",
     "traceback": [
      "\u001b[0;31m---------------------------------------------------------------------------\u001b[0m",
      "\u001b[0;31mKeyboardInterrupt\u001b[0m                         Traceback (most recent call last)",
      "\u001b[0;32m<timed exec>\u001b[0m in \u001b[0;36m<module>\u001b[0;34m()\u001b[0m\n",
      "\u001b[0;32m<ipython-input-8-241d96f272a5>\u001b[0m in \u001b[0;36mddpg\u001b[0;34m(n_episodes, max_t)\u001b[0m\n\u001b[1;32m     26\u001b[0m \u001b[0;34m\u001b[0m\u001b[0m\n\u001b[1;32m     27\u001b[0m             \u001b[0;31m# next_state, reward, done, _ = env.step(action)\u001b[0m\u001b[0;34m\u001b[0m\u001b[0;34m\u001b[0m\u001b[0m\n\u001b[0;32m---> 28\u001b[0;31m             \u001b[0magent\u001b[0m\u001b[0;34m.\u001b[0m\u001b[0mstep\u001b[0m\u001b[0;34m(\u001b[0m\u001b[0mstate\u001b[0m\u001b[0;34m,\u001b[0m \u001b[0maction\u001b[0m\u001b[0;34m,\u001b[0m \u001b[0mreward\u001b[0m\u001b[0;34m,\u001b[0m \u001b[0mnext_state\u001b[0m\u001b[0;34m,\u001b[0m \u001b[0mdone\u001b[0m\u001b[0;34m)\u001b[0m\u001b[0;34m\u001b[0m\u001b[0m\n\u001b[0m\u001b[1;32m     29\u001b[0m             \u001b[0;31m# state = next_state\u001b[0m\u001b[0;34m\u001b[0m\u001b[0;34m\u001b[0m\u001b[0m\n\u001b[1;32m     30\u001b[0m             \u001b[0;31m# score += reward\u001b[0m\u001b[0;34m\u001b[0m\u001b[0;34m\u001b[0m\u001b[0m\n",
      "\u001b[0;32m/home/workspace/ddpg_agent.py\u001b[0m in \u001b[0;36mstep\u001b[0;34m(self, state, action, reward, next_state, done)\u001b[0m\n\u001b[1;32m     60\u001b[0m         \u001b[0;32mif\u001b[0m \u001b[0mlen\u001b[0m\u001b[0;34m(\u001b[0m\u001b[0mself\u001b[0m\u001b[0;34m.\u001b[0m\u001b[0mmemory\u001b[0m\u001b[0;34m)\u001b[0m \u001b[0;34m>\u001b[0m \u001b[0mBATCH_SIZE\u001b[0m\u001b[0;34m:\u001b[0m\u001b[0;34m\u001b[0m\u001b[0m\n\u001b[1;32m     61\u001b[0m             \u001b[0mexperiences\u001b[0m \u001b[0;34m=\u001b[0m \u001b[0mself\u001b[0m\u001b[0;34m.\u001b[0m\u001b[0mmemory\u001b[0m\u001b[0;34m.\u001b[0m\u001b[0msample\u001b[0m\u001b[0;34m(\u001b[0m\u001b[0;34m)\u001b[0m\u001b[0;34m\u001b[0m\u001b[0m\n\u001b[0;32m---> 62\u001b[0;31m             \u001b[0mself\u001b[0m\u001b[0;34m.\u001b[0m\u001b[0mlearn\u001b[0m\u001b[0;34m(\u001b[0m\u001b[0mexperiences\u001b[0m\u001b[0;34m,\u001b[0m \u001b[0mGAMMA\u001b[0m\u001b[0;34m)\u001b[0m\u001b[0;34m\u001b[0m\u001b[0m\n\u001b[0m\u001b[1;32m     63\u001b[0m \u001b[0;34m\u001b[0m\u001b[0m\n\u001b[1;32m     64\u001b[0m     \u001b[0;32mdef\u001b[0m \u001b[0mact\u001b[0m\u001b[0;34m(\u001b[0m\u001b[0mself\u001b[0m\u001b[0;34m,\u001b[0m \u001b[0mstate\u001b[0m\u001b[0;34m,\u001b[0m \u001b[0madd_noise\u001b[0m\u001b[0;34m=\u001b[0m\u001b[0;32mTrue\u001b[0m\u001b[0;34m)\u001b[0m\u001b[0;34m:\u001b[0m\u001b[0;34m\u001b[0m\u001b[0m\n",
      "\u001b[0;32m/home/workspace/ddpg_agent.py\u001b[0m in \u001b[0;36mlearn\u001b[0;34m(self, experiences, gamma)\u001b[0m\n\u001b[1;32m    101\u001b[0m         \u001b[0;31m# Minimize the loss\u001b[0m\u001b[0;34m\u001b[0m\u001b[0;34m\u001b[0m\u001b[0m\n\u001b[1;32m    102\u001b[0m         \u001b[0mself\u001b[0m\u001b[0;34m.\u001b[0m\u001b[0mcritic_optimizer\u001b[0m\u001b[0;34m.\u001b[0m\u001b[0mzero_grad\u001b[0m\u001b[0;34m(\u001b[0m\u001b[0;34m)\u001b[0m\u001b[0;34m\u001b[0m\u001b[0m\n\u001b[0;32m--> 103\u001b[0;31m         \u001b[0mcritic_loss\u001b[0m\u001b[0;34m.\u001b[0m\u001b[0mbackward\u001b[0m\u001b[0;34m(\u001b[0m\u001b[0;34m)\u001b[0m\u001b[0;34m\u001b[0m\u001b[0m\n\u001b[0m\u001b[1;32m    104\u001b[0m         \u001b[0mself\u001b[0m\u001b[0;34m.\u001b[0m\u001b[0mcritic_optimizer\u001b[0m\u001b[0;34m.\u001b[0m\u001b[0mstep\u001b[0m\u001b[0;34m(\u001b[0m\u001b[0;34m)\u001b[0m\u001b[0;34m\u001b[0m\u001b[0m\n\u001b[1;32m    105\u001b[0m \u001b[0;34m\u001b[0m\u001b[0m\n",
      "\u001b[0;32m/opt/conda/lib/python3.6/site-packages/torch/tensor.py\u001b[0m in \u001b[0;36mbackward\u001b[0;34m(self, gradient, retain_graph, create_graph)\u001b[0m\n\u001b[1;32m     91\u001b[0m                 \u001b[0mproducts\u001b[0m\u001b[0;34m.\u001b[0m \u001b[0mDefaults\u001b[0m \u001b[0mto\u001b[0m\u001b[0;31m \u001b[0m\u001b[0;31m`\u001b[0m\u001b[0;31m`\u001b[0m\u001b[0;32mFalse\u001b[0m\u001b[0;31m`\u001b[0m\u001b[0;31m`\u001b[0m\u001b[0;34m.\u001b[0m\u001b[0;34m\u001b[0m\u001b[0m\n\u001b[1;32m     92\u001b[0m         \"\"\"\n\u001b[0;32m---> 93\u001b[0;31m         \u001b[0mtorch\u001b[0m\u001b[0;34m.\u001b[0m\u001b[0mautograd\u001b[0m\u001b[0;34m.\u001b[0m\u001b[0mbackward\u001b[0m\u001b[0;34m(\u001b[0m\u001b[0mself\u001b[0m\u001b[0;34m,\u001b[0m \u001b[0mgradient\u001b[0m\u001b[0;34m,\u001b[0m \u001b[0mretain_graph\u001b[0m\u001b[0;34m,\u001b[0m \u001b[0mcreate_graph\u001b[0m\u001b[0;34m)\u001b[0m\u001b[0;34m\u001b[0m\u001b[0m\n\u001b[0m\u001b[1;32m     94\u001b[0m \u001b[0;34m\u001b[0m\u001b[0m\n\u001b[1;32m     95\u001b[0m     \u001b[0;32mdef\u001b[0m \u001b[0mregister_hook\u001b[0m\u001b[0;34m(\u001b[0m\u001b[0mself\u001b[0m\u001b[0;34m,\u001b[0m \u001b[0mhook\u001b[0m\u001b[0;34m)\u001b[0m\u001b[0;34m:\u001b[0m\u001b[0;34m\u001b[0m\u001b[0m\n",
      "\u001b[0;32m/opt/conda/lib/python3.6/site-packages/torch/autograd/__init__.py\u001b[0m in \u001b[0;36mbackward\u001b[0;34m(tensors, grad_tensors, retain_graph, create_graph, grad_variables)\u001b[0m\n\u001b[1;32m     87\u001b[0m     Variable._execution_engine.run_backward(\n\u001b[1;32m     88\u001b[0m         \u001b[0mtensors\u001b[0m\u001b[0;34m,\u001b[0m \u001b[0mgrad_tensors\u001b[0m\u001b[0;34m,\u001b[0m \u001b[0mretain_graph\u001b[0m\u001b[0;34m,\u001b[0m \u001b[0mcreate_graph\u001b[0m\u001b[0;34m,\u001b[0m\u001b[0;34m\u001b[0m\u001b[0m\n\u001b[0;32m---> 89\u001b[0;31m         allow_unreachable=True)  # allow_unreachable flag\n\u001b[0m\u001b[1;32m     90\u001b[0m \u001b[0;34m\u001b[0m\u001b[0m\n\u001b[1;32m     91\u001b[0m \u001b[0;34m\u001b[0m\u001b[0m\n",
      "\u001b[0;31mKeyboardInterrupt\u001b[0m: "
     ]
    }
   ],
   "source": [
    "%%time\n",
    "with active_session():\n",
    "    scores = ddpg()"
   ]
  },
  {
   "cell_type": "code",
   "execution_count": 11,
   "metadata": {},
   "outputs": [],
   "source": [
    "# With Batch size 128:\n",
    "# Episode 100 Average Score: 0.26\n",
    "# Episode 200 Average Score: 0.28\n",
    "\n",
    "# With batch size 1024\n",
    "# Episode 100 Average Score: 0.51 Score: 0.51 Score: 0.32\n",
    "# Episode 200 Average Score: 0.54 Score: 0.54 Score: 0.64\n",
    "# Episode 227/1000, t: 527/700\n",
    "\n",
    "# With batch size 512, added LeakyRelu to Actor and Critic, added BatchNormalization to Critic as well\n",
    "# Episode 135: Average Score: 0.01, Score: 0.12, time: 0:00:16.574757\n",
    "# Episode 136: Average Score: 0.01, Score: 0.11, time: 0:00:16.618869\n",
    "\n",
    "# With 256-128 network and clip grad norm\n",
    "\n",
    "# With 256-256 network and Batch size 512 and clip grad norm\n"
   ]
  },
  {
   "cell_type": "code",
   "execution_count": 12,
   "metadata": {},
   "outputs": [
    {
     "data": {
      "image/png": "[encoded data removed]",
      "text/plain": [
       "<matplotlib.figure.Figure at 0x7fba1526da58>"
      ]
     },
     "metadata": {
      "needs_background": "light"
     },
     "output_type": "display_data"
    }
   ],
   "source": [
    "def plot_scores(scores):\n",
    "    fig = plt.figure()\n",
    "    ax = fig.add_subplot(111)\n",
    "    plt.plot(np.arange(len(scores)), scores)\n",
    "    plt.ylabel('Score')\n",
    "    plt.xlabel('Episode #')\n",
    "    plt.show()\n",
    "\n",
    "plot_scores(scores)"
   ]
  },
  {
   "cell_type": "code",
   "execution_count": null,
   "metadata": {},
   "outputs": [],
   "source": []
  }
 ],
 "metadata": {
  "kernelspec": {
   "display_name": "Python 3",
   "language": "python",
   "name": "python3"
  },
  "language_info": {
   "codemirror_mode": {
    "name": "ipython",
    "version": 3
   },
   "file_extension": ".py",
   "mimetype": "text/x-python",
   "name": "python",
   "nbconvert_exporter": "python",
   "pygments_lexer": "ipython3",
   "version": "3.6.4"
  }
 },
 "nbformat": 4,
 "nbformat_minor": 2
}
