{
 "cells": [
  {
   "cell_type": "markdown",
   "metadata": {},
   "source": [
    "# Collaboration and Competition\n",
    "\n",
    "---\n",
    "\n",
    "\n",
    "## Introduction\n",
    "\n",
    "Install a few packages, this line will take a few minutes to run!"
   ]
  },
  {
   "cell_type": "code",
   "execution_count": 1,
   "metadata": {},
   "outputs": [
    {
     "name": "stdout",
     "output_type": "stream",
     "text": [
      "\u001b[31mtensorflow 1.7.1 has requirement numpy>=1.13.3, but you'll have numpy 1.12.1 which is incompatible.\u001b[0m\n",
      "\u001b[31mipython 6.5.0 has requirement prompt-toolkit<2.0.0,>=1.0.15, but you'll have prompt-toolkit 2.0.10 which is incompatible.\u001b[0m\n",
      "CPU times: user 861 ms, sys: 118 ms, total: 979 ms\n",
      "Wall time: 56.8 s\n"
     ]
    }
   ],
   "source": [
    "%%time\n",
    "!pip -q install ./python"
   ]
  },
  {
   "cell_type": "markdown",
   "metadata": {},
   "source": [
    "### Get environment ready\n",
    "\n",
    "The environment is already saved in the Workspace and can be accessed at the file path provided below. "
   ]
  },
  {
   "cell_type": "code",
   "execution_count": 2,
   "metadata": {},
   "outputs": [],
   "source": [
    "from unityagents import UnityEnvironment\n",
    "import numpy as np\n",
    "import torch\n",
    "import matplotlib.pyplot as plt\n",
    "from collections import deque"
   ]
  },
  {
   "cell_type": "code",
   "execution_count": 3,
   "metadata": {},
   "outputs": [],
   "source": [
    "def initialize_env(unity_file):\n",
    "    # Initialize the environment\n",
    "    env = UnityEnvironment(file_name=unity_file)\n",
    "\n",
    "    # Get default brain\n",
    "    brain_name = env.brain_names[0]\n",
    "    brain = env.brains[brain_name]\n",
    "\n",
    "    # Get state and action spaces\n",
    "    env_info = env.reset(train_mode=True)[brain_name]\n",
    "    state_size = env_info.vector_observations.shape[1]\n",
    "    action_size = brain.vector_action_space_size\n",
    "    n_agents = len(env_info.agents)\n",
    "    \n",
    "    print('State size: ', state_size)\n",
    "    print('Action size: ', action_size)\n",
    "    print('Number of agents: ', n_agents)\n",
    "    \n",
    "    return env, brain_name, brain, state_size, action_size, n_agents"
   ]
  },
  {
   "cell_type": "markdown",
   "metadata": {},
   "source": [
    "Environments contain **_brains_** which are responsible for deciding the actions of their associated agents. Here we check for the first brain available, and set it as the default brain we will be controlling from Python."
   ]
  },
  {
   "cell_type": "code",
   "execution_count": 4,
   "metadata": {},
   "outputs": [
    {
     "name": "stderr",
     "output_type": "stream",
     "text": [
      "INFO:unityagents:\n",
      "'Academy' started successfully!\n",
      "Unity Academy name: Academy\n",
      "        Number of Brains: 1\n",
      "        Number of External Brains : 1\n",
      "        Lesson number : 0\n",
      "        Reset Parameters :\n",
      "\t\t\n",
      "Unity brain name: TennisBrain\n",
      "        Number of Visual Observations (per agent): 0\n",
      "        Vector Observation space type: continuous\n",
      "        Vector Observation space size (per agent): 8\n",
      "        Number of stacked Vector Observation: 3\n",
      "        Vector Action space type: continuous\n",
      "        Vector Action space size (per agent): 2\n",
      "        Vector Action descriptions: , \n"
     ]
    },
    {
     "name": "stdout",
     "output_type": "stream",
     "text": [
      "State size:  24\n",
      "Action size:  2\n",
      "Number of agents:  2\n"
     ]
    }
   ],
   "source": [
    "env, brain_name, brain, state_size, action_size, n_agents = \\\n",
    "    initialize_env(\"/data/Tennis_Linux_NoVis/Tennis\")"
   ]
  },
  {
   "cell_type": "code",
   "execution_count": 5,
   "metadata": {},
   "outputs": [],
   "source": [
    "# get the default brain\n",
    "brain_name = env.brain_names[0]\n",
    "brain = env.brains[brain_name]"
   ]
  },
  {
   "cell_type": "markdown",
   "metadata": {},
   "source": [
    "### Examine the State and Action Spaces\n",
    "\n",
    "Run the code cell below to print some information about the environment."
   ]
  },
  {
   "cell_type": "code",
   "execution_count": 6,
   "metadata": {},
   "outputs": [
    {
     "name": "stdout",
     "output_type": "stream",
     "text": [
      "Number of agents: 2\n",
      "Size of each action: 2\n",
      "There are 2 agents. Each observes a state with length: 24\n",
      "The state for the first agent looks like: [ 0.          0.          0.          0.          0.          0.          0.\n",
      "  0.          0.          0.          0.          0.          0.          0.\n",
      "  0.          0.         -7.38993645 -1.5        -0.          0.\n",
      "  6.83172083  5.99607611 -0.          0.        ]\n"
     ]
    }
   ],
   "source": [
    "# reset the environment\n",
    "env_info = env.reset(train_mode=True)[brain_name]\n",
    "\n",
    "# number of agents \n",
    "num_agents = len(env_info.agents)\n",
    "print('Number of agents:', num_agents)\n",
    "\n",
    "# size of each action\n",
    "action_size = brain.vector_action_space_size\n",
    "print('Size of each action:', action_size)\n",
    "\n",
    "# examine the state space \n",
    "states = env_info.vector_observations\n",
    "state_size = states.shape[1]\n",
    "print('There are {} agents. Each observes a state with length: {}'.format(states.shape[0], state_size))\n",
    "print('The state for the first agent looks like:', states[0])"
   ]
  },
  {
   "cell_type": "markdown",
   "metadata": {},
   "source": [
    "### Take Random Actions in the Environment\n",
    "\n",
    "We use the Python API to control the agent and receive feedback from the environment.\n",
    "\n",
    "Note that **in this coding environment, you will not be able to watch the agents while they are training**, and you should set `train_mode=True` to restart the environment."
   ]
  },
  {
   "cell_type": "code",
   "execution_count": 7,
   "metadata": {},
   "outputs": [
    {
     "name": "stdout",
     "output_type": "stream",
     "text": [
      "Total score (averaged over agents) this episode: -0.004999999888241291\n",
      "Total score (averaged over agents) this episode: -0.004999999888241291\n",
      "Total score (averaged over agents) this episode: -0.004999999888241291\n"
     ]
    }
   ],
   "source": [
    "for i in range(3):                                         # play game for 3 episodes\n",
    "    env_info = env.reset(train_mode=False)[brain_name]     # reset the environment    \n",
    "    states = env_info.vector_observations                  # get the current state (for each agent)\n",
    "    scores = np.zeros(num_agents)                          # initialize the score (for each agent)\n",
    "    while True:\n",
    "        actions = np.random.randn(num_agents, action_size) # select an action (for each agent)\n",
    "        actions = np.clip(actions, -1, 1)                  # all actions between -1 and 1\n",
    "        env_info = env.step(actions)[brain_name]           # send all actions to tne environment\n",
    "        next_states = env_info.vector_observations         # get next state (for each agent)\n",
    "        rewards = env_info.rewards                         # get reward (for each agent)\n",
    "        dones = env_info.local_done                        # see if episode finished\n",
    "        scores += env_info.rewards                         # update the score (for each agent)\n",
    "        states = next_states                               # roll over states to next time step\n",
    "        if np.any(dones):                                  # exit loop if episode finished\n",
    "            break\n",
    "    print('Total score (averaged over agents) this episode: {}'.format(np.mean(scores)))"
   ]
  },
  {
   "cell_type": "markdown",
   "metadata": {},
   "source": [
    "## Submission\n",
    "\n",
    "### Algorithm\n",
    "\n",
    "#### Policy-Based Methods\n",
    "\n",
    "Value-based methods can only deal with comparably small state spaces.\n",
    "A table with values of states and actions is filled through the agent's interaction with the environment.\n",
    "Thereby the optimal value function $q_*$ helps to find the optimal policy $\\pi_*$.\n",
    "For bigger (also: continuous) state spaces deep neural networks are used to learn the optimal action-value network.\n",
    "A well-known algorithm is Deep Q-Learning (DQN).\n",
    "\n",
    "Policy-based methods, in contrast to that, try to estimate the optimal policy without worrying about the optimal value function.\n",
    "Methods such as Hill Climbing, Gradient Ascend or Stochastic Policy Search can be used for Policy Function Approximation. The so called Cross-Entropy Method and Evolution Strategies are further algorithms in this field.\n",
    "\n",
    "Policy-Based methods are helpful, since they\n",
    " 1. are simpler than value-based methods,\n",
    " 2. are able to learn true stochastic policies and\n",
    " 3. are able to deal with continuous action spaces.\n",
    "\n",
    "#### Actor-Critic Methods\n",
    "\n",
    "The general idea of actor-critic methods is to use value-based methods to further reduce the variance of policy-based methods.\n",
    "One uses two function approximators (typically neural networks) to learn a policy (the Actor) and a value function (the Critic); the actor is learning to act, whereas the critic is learning to estimate situations and actions.\n",
    "This combination typically results in more stable learning than value-based agents alone, but also fewer samples are necessary than for policy-based agents alone.\n",
    "\n",
    "A basic Actor-Critic agent works as follows:\n",
    " 1. Actor: Observe state $s$ of the environment\n",
    " 1. Actor: Calculate distribution of action probabilities $\\pi(a \\mid s; \\theta_{\\pi})$, select action and execute\n",
    " 1. Actor: Observe experience tuple of state, action, reward and next state: $o=(s, a, r, s')$\n",
    " 1. Critic: Use the tuple $o$ for TD-estimate, to train critic: $r + \\gamma V(s'; \\theta_{V})$\n",
    " 1. Critic: Calculate the advantage $A(s, a) = r + \\gamma V(s'; \\theta_{V}) - V(s; \\theta_{V}) $\n",
    " 1. Actor: Train the actor using the advantage\n",
    "\n",
    "Common algorithms are\n",
    " - A3C (Asynchronous Advantage Actor-Critic)\n",
    " - A2C (Advantage Actor-Critic)\n",
    " - Generalized Advantage Estimation\n",
    " - DDPG (Deep Deterministic Policy Gradient)\n",
    "\n",
    "#### Deep Deterministic Policy Gradient\n",
    "\n",
    "DDPG has been introduced in Lillicrap et al., 2016.\n",
    "It is being used in the implementation in the following.\n",
    "\n",
    "DDPG combines the actor-critic approach with Deep Q-Learning.\n",
    "It can be seen as a kind of approximate DQN instead of an actual actor-critic.\n",
    "The actor provides the current policy, mapping states to continuous deterministic actions.\n",
    "The critic is used to calculate action values.\n",
    "DDPG is using a replay buffer (like DQN), and target networks.\n",
    "This means, there are 2 copies of the network weights for each network (regular+target for actor, regular+target for critic), where the targets are updated using a soft update strategy.\n",
    "The target network is used for prediction to stabilize training, whereas the regular network is the one that is being trained.\n",
    "\n",
    "Process Noise is added in order to handle exploration (Ornstein-Uhlenbeck noise).\n",
    "\n",
    "### Implementation\n",
    "\n",
    "> The following solution is based on the code provided in [Udacity ddpg-bipedal](https://github.com/udacity/deep-reinforcement-learning/blob/master/ddpg-bipedal/DDPG.ipynb). In particular, it uses the files [model.py](https://github.com/udacity/deep-reinforcement-learning/blob/master/ddpg-bipedal/model.py) and [ddpg_agent/py](https://github.com/udacity/deep-reinforcement-learning/blob/master/ddpg-bipedal/ddpg_agent.py), as well as the code provided in the training loop `ddpg()`.\n",
    "The code is also heavily taking advantage of our submission of the second project, [see here](https://github.com/toebgen/deep-reinforcement-learning/blob/master/p2_continuous-control/Report.ipynb)."
   ]
  },
  {
   "cell_type": "code",
   "execution_count": 18,
   "metadata": {},
   "outputs": [],
   "source": [
    "import datetime\n",
    "import pickle\n",
    "from ddpg_agent import Agent\n",
    "\n",
    "run_training = False"
   ]
  },
  {
   "cell_type": "code",
   "execution_count": 19,
   "metadata": {},
   "outputs": [],
   "source": [
    "def ddpg(env, brain_name, agent, n_agents,\n",
    "         n_episodes=2000, t_max=2000):\n",
    "    \n",
    "    scores = []\n",
    "    scores_deque = deque(maxlen=100)\n",
    "    best_score = -np.Inf\n",
    "    \n",
    "    for i_episode in range(1, n_episodes+1):\n",
    "        t_start = datetime.datetime.now()\n",
    "        env_info = env.reset(train_mode=True)[brain_name] # reset the environment\n",
    "        state = env_info.vector_observations\n",
    "        agent.reset()\n",
    "        score = np.zeros(n_agents)\n",
    "        \n",
    "        # for t in range(t_max):\n",
    "        t = 0\n",
    "        while True:\n",
    "            # print('\\rEpisode {}/{}, t: {}/{}'\n",
    "            #      .format(i_episode, n_episodes, t, t_max), end=\"\")\n",
    "            action = agent.act(state)\n",
    "            \n",
    "            env_info = env.step(action)[brain_name]     # send all actions to the environment\n",
    "            next_state = env_info.vector_observations   # get next state (for each agent)\n",
    "            reward = env_info.rewards                   # get reward (for each agent)\n",
    "            done = env_info.local_done                  # see if episode finished\n",
    "\n",
    "            # TODO: Needs adaption here...\n",
    "            #agent.step(state, actions, rewards, next_state, dones, t)\n",
    "            agent.step(state[0], action[0], reward[0], next_state[0], done[0], learn=True)\n",
    "            agent.step(state[1], action[1], reward[1], next_state[1], done[1], learn=False)\n",
    "            \n",
    "            score += reward\n",
    "            state = next_state    # roll over states to next time step\n",
    "            \n",
    "            if np.any(done):      # exit loop if episode finished\n",
    "                # print('\\tSteps: ', t)\n",
    "                break\n",
    "                \n",
    "        max_score = np.max(score)\n",
    "        scores_deque.append(max_score)\n",
    "        scores.append(max_score)\n",
    "        \n",
    "        average_score = np.mean(scores_deque)\n",
    "        \n",
    "        t_episode = datetime.datetime.now() - t_start\n",
    "        print('\\rEpisode: {}, Score: {:.3f}, time: {}'\n",
    "              .format(i_episode, average_score, t_episode), end=\"\")\n",
    "        \n",
    "        if i_episode % 50 == 0:\n",
    "            print('')\n",
    "            torch.save(agent.actor_local.state_dict(), 'checkpoint_actor.pth')\n",
    "            torch.save(agent.critic_local.state_dict(), 'checkpoint_critic.pth')\n",
    "\n",
    "        if average_score >= 0.5:\n",
    "            print('\\n\\nEnvironment solved in {:d} episodes!\\tAverage Score: {:.3f}'\n",
    "                  .format(i_episode-100, average_score))\n",
    "            torch.save(agent.actor_local.state_dict(), 'checkpoint_actor_solution.pth')\n",
    "            torch.save(agent.critic_local.state_dict(), 'checkpoint_critic_solution.pth')\n",
    "            break\n",
    "            \n",
    "    return scores"
   ]
  },
  {
   "cell_type": "code",
   "execution_count": 14,
   "metadata": {},
   "outputs": [
    {
     "name": "stdout",
     "output_type": "stream",
     "text": [
      "Starting ddpg()...\n",
      "Episode: 50, Score: 0.004, time: 0:00:00.370139\n",
      "Episode: 100, Score: 0.002, time: 0:00:00.386504\n",
      "Episode: 150, Score: 0.007, time: 0:00:00.427680\n",
      "Episode: 200, Score: 0.016, time: 0:00:00.539729\n",
      "Episode: 250, Score: 0.034, time: 0:00:00.863540\n",
      "Episode: 300, Score: 0.084, time: 0:00:03.072736\n",
      "Episode: 350, Score: 0.454, time: 0:00:14.185700\n",
      "Episode: 362, Score: 0.508, time: 0:00:17.917698\n",
      "\n",
      "Environment solved in 262 episodes!\tAverage Score: 0.508\n",
      "CPU times: user 10min 59s, sys: 12.8 s, total: 11min 12s\n",
      "Wall time: 11min 42s\n"
     ]
    }
   ],
   "source": [
    "%%time\n",
    "\n",
    "# Initialize agent\n",
    "agent = Agent(state_size,\n",
    "              action_size,\n",
    "              n_agents,\n",
    "              buffer_size=int(1e5),\n",
    "              batch_size=128,\n",
    "              gamma=.99,\n",
    "              tau=1e-2,\n",
    "              lr_actor=1e-4,\n",
    "              lr_critic=1e-3,\n",
    "              weight_decay=0.0,\n",
    "              neurons_fc1=400,\n",
    "              neurons_fc2=300,\n",
    "              update_every=1,\n",
    "              n_updates=1,\n",
    "              random_seed=2)  # seed=40\n",
    "\n",
    "# Run training\n",
    "if run_training:\n",
    "    scores = ddpg(env, brain_name, agent, n_agents,\n",
    "                  n_episodes=10000)\n",
    "    pickle.dump(scores, open(\"scores.p\", \"wb\"))\n",
    "else:\n",
    "    scores = pickle.load(open(\"scores.p\", \"rb\"))"
   ]
  },
  {
   "cell_type": "code",
   "execution_count": null,
   "metadata": {},
   "outputs": [],
   "source": [
    "# Episode: 50, Score: 0.004, time: 0:00:00.370139\n",
    "# Episode: 100, Score: 0.002, time: 0:00:00.386504\n",
    "# Episode: 150, Score: 0.007, time: 0:00:00.427680\n",
    "# Episode: 200, Score: 0.016, time: 0:00:00.539729\n",
    "# Episode: 250, Score: 0.034, time: 0:00:00.863540\n",
    "# Episode: 300, Score: 0.084, time: 0:00:03.072736\n",
    "# Episode: 350, Score: 0.454, time: 0:00:14.185700\n",
    "# Episode: 362, Score: 0.508, time: 0:00:17.917698\n",
    "\n",
    "# Environment solved in 262 episodes!\tAverage Score: 0.508\n",
    "# CPU times: user 10min 59s, sys: 12.8 s, total: 11min 12s\n",
    "# Wall time: 11min 42s"
   ]
  },
  {
   "cell_type": "code",
   "execution_count": 15,
   "metadata": {},
   "outputs": [],
   "source": [
    "from scipy.ndimage.filters import gaussian_filter1d\n",
    "\n",
    "def plot_scores(scores_dict):\n",
    "    fig = plt.figure()\n",
    "    ax = fig.add_subplot(111)\n",
    "    for key, scores in scores_dict.items():\n",
    "        scores_smoothed = gaussian_filter1d(scores, sigma=5)\n",
    "        plt.plot(np.arange(len(scores)), scores_smoothed, label=key)\n",
    "    plt.ylabel('Smoothed Score')\n",
    "    plt.xlabel('Episode #')\n",
    "    plt.legend()\n",
    "    plt.show()"
   ]
  },
  {
   "cell_type": "code",
   "execution_count": 17,
   "metadata": {},
   "outputs": [
    {
     "data": {
      "image/png": "[encoded data removed]",
      "text/plain": [
       "<matplotlib.figure.Figure at 0x7fa2a3e1a898>"
      ]
     },
     "metadata": {
      "needs_background": "light"
     },
     "output_type": "display_data"
    }
   ],
   "source": [
    "plot_scores({'DDPG': scores})"
   ]
  },
  {
   "cell_type": "markdown",
   "metadata": {},
   "source": [
    "When finished, we can close the environment."
   ]
  },
  {
   "cell_type": "code",
   "execution_count": null,
   "metadata": {},
   "outputs": [],
   "source": [
    "env.close()"
   ]
  },
  {
   "cell_type": "markdown",
   "metadata": {},
   "source": [
    "### Future Work\n",
    "\n",
    "The tuning of hyperparameters can be further improved.\n",
    "Possibly a framework like [hyperopt](https://github.com/hyperopt/hyperopt) or [optuna](https://optuna.org) can be used.\n",
    "\n",
    "Other algorithms for solving the problem might also be interesting, such as PPO for example (has been used in the DOTA AI).\n",
    "\n",
    "Apparently the seeds used in the algorithm can also have a big influence on learning convergence.\n",
    "It might be interesting to explore this further.\n",
    "\n",
    "Certainly interesting is also applying the logic to the soccer problem, as suggested by Udacity."
   ]
  },
  {
   "cell_type": "code",
   "execution_count": null,
   "metadata": {},
   "outputs": [],
   "source": []
  }
 ],
 "metadata": {
  "kernelspec": {
   "display_name": "Python 3",
   "language": "python",
   "name": "python3"
  },
  "language_info": {
   "codemirror_mode": {
    "name": "ipython",
    "version": 3
   },
   "file_extension": ".py",
   "mimetype": "text/x-python",
   "name": "python",
   "nbconvert_exporter": "python",
   "pygments_lexer": "ipython3",
   "version": "3.6.3"
  }
 },
 "nbformat": 4,
 "nbformat_minor": 2
}
